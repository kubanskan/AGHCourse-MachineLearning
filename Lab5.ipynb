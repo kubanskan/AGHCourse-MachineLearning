{
 "cells": [
  {
   "cell_type": "code",
   "execution_count": 1,
   "metadata": {
    "id": "h4R3JWPvf8ni"
   },
   "outputs": [],
   "source": [
    "import pandas as pd\n",
    "import numpy as np\n",
    "import seaborn as sns\n",
    "import missingno as msno\n",
    "import warnings\n",
    "warnings.simplefilter(action='ignore', category=FutureWarning)"
   ]
  },
  {
   "cell_type": "code",
   "execution_count": 2,
   "metadata": {
    "id": "XQ2WjIojf59n"
   },
   "outputs": [],
   "source": [
    "columns = ['pclass', 'survived', 'name', 'sex', 'age', 'sibsp', 'parch', 'ticket', 'fare', 'cabin', 'embarked', 'boat', 'body', 'home.dest']"
   ]
  },
  {
   "cell_type": "code",
   "execution_count": 3,
   "metadata": {
    "id": "tfAo80mmeykZ"
   },
   "outputs": [],
   "source": [
    "df = pd.read_csv('Zbiór danych Titanic.csv', sep=',', skiprows = 17, names=columns, header=None )"
   ]
  },
  {
   "cell_type": "markdown",
   "metadata": {
    "id": "ihCS-zTV6JHd"
   },
   "source": [
    "# Zadanie 1"
   ]
  },
  {
   "cell_type": "code",
   "execution_count": 4,
   "metadata": {
    "colab": {
     "base_uri": "https://localhost:8080/",
     "height": 1041
    },
    "id": "p2z0gcy5gD5D",
    "outputId": "fc077836-03c0-4d47-f0a4-b809a7358db3"
   },
   "outputs": [
    {
     "data": {
      "text/html": [
       "<div>\n",
       "<style scoped>\n",
       "    .dataframe tbody tr th:only-of-type {\n",
       "        vertical-align: middle;\n",
       "    }\n",
       "\n",
       "    .dataframe tbody tr th {\n",
       "        vertical-align: top;\n",
       "    }\n",
       "\n",
       "    .dataframe thead th {\n",
       "        text-align: right;\n",
       "    }\n",
       "</style>\n",
       "<table border=\"1\" class=\"dataframe\">\n",
       "  <thead>\n",
       "    <tr style=\"text-align: right;\">\n",
       "      <th></th>\n",
       "      <th>pclass</th>\n",
       "      <th>survived</th>\n",
       "      <th>name</th>\n",
       "      <th>sex</th>\n",
       "      <th>age</th>\n",
       "      <th>sibsp</th>\n",
       "      <th>parch</th>\n",
       "      <th>ticket</th>\n",
       "      <th>fare</th>\n",
       "      <th>cabin</th>\n",
       "      <th>embarked</th>\n",
       "      <th>boat</th>\n",
       "      <th>body</th>\n",
       "      <th>home.dest</th>\n",
       "    </tr>\n",
       "  </thead>\n",
       "  <tbody>\n",
       "    <tr>\n",
       "      <th>0</th>\n",
       "      <td>1</td>\n",
       "      <td>1</td>\n",
       "      <td>Allen, Miss. Elisabeth Walton</td>\n",
       "      <td>female</td>\n",
       "      <td>29</td>\n",
       "      <td>0</td>\n",
       "      <td>0</td>\n",
       "      <td>24160</td>\n",
       "      <td>211.3375</td>\n",
       "      <td>B5</td>\n",
       "      <td>S</td>\n",
       "      <td>2</td>\n",
       "      <td>?</td>\n",
       "      <td>St Louis, MO</td>\n",
       "    </tr>\n",
       "    <tr>\n",
       "      <th>1</th>\n",
       "      <td>1</td>\n",
       "      <td>1</td>\n",
       "      <td>Allison, Master. Hudson Trevor</td>\n",
       "      <td>male</td>\n",
       "      <td>0.9167</td>\n",
       "      <td>1</td>\n",
       "      <td>2</td>\n",
       "      <td>113781</td>\n",
       "      <td>151.55</td>\n",
       "      <td>C22 C26</td>\n",
       "      <td>S</td>\n",
       "      <td>11</td>\n",
       "      <td>?</td>\n",
       "      <td>Montreal, PQ / Chesterville, ON</td>\n",
       "    </tr>\n",
       "    <tr>\n",
       "      <th>2</th>\n",
       "      <td>1</td>\n",
       "      <td>0</td>\n",
       "      <td>Allison, Miss. Helen Loraine</td>\n",
       "      <td>female</td>\n",
       "      <td>2</td>\n",
       "      <td>1</td>\n",
       "      <td>2</td>\n",
       "      <td>113781</td>\n",
       "      <td>151.55</td>\n",
       "      <td>C22 C26</td>\n",
       "      <td>S</td>\n",
       "      <td>?</td>\n",
       "      <td>?</td>\n",
       "      <td>Montreal, PQ / Chesterville, ON</td>\n",
       "    </tr>\n",
       "    <tr>\n",
       "      <th>3</th>\n",
       "      <td>1</td>\n",
       "      <td>0</td>\n",
       "      <td>Allison, Mr. Hudson Joshua Creighton</td>\n",
       "      <td>male</td>\n",
       "      <td>30</td>\n",
       "      <td>1</td>\n",
       "      <td>2</td>\n",
       "      <td>113781</td>\n",
       "      <td>151.55</td>\n",
       "      <td>C22 C26</td>\n",
       "      <td>S</td>\n",
       "      <td>?</td>\n",
       "      <td>135</td>\n",
       "      <td>Montreal, PQ / Chesterville, ON</td>\n",
       "    </tr>\n",
       "    <tr>\n",
       "      <th>4</th>\n",
       "      <td>1</td>\n",
       "      <td>0</td>\n",
       "      <td>Allison, Mrs. Hudson J C (Bessie Waldo Daniels)</td>\n",
       "      <td>female</td>\n",
       "      <td>25</td>\n",
       "      <td>1</td>\n",
       "      <td>2</td>\n",
       "      <td>113781</td>\n",
       "      <td>151.55</td>\n",
       "      <td>C22 C26</td>\n",
       "      <td>S</td>\n",
       "      <td>?</td>\n",
       "      <td>?</td>\n",
       "      <td>Montreal, PQ / Chesterville, ON</td>\n",
       "    </tr>\n",
       "    <tr>\n",
       "      <th>5</th>\n",
       "      <td>1</td>\n",
       "      <td>1</td>\n",
       "      <td>Anderson, Mr. Harry</td>\n",
       "      <td>male</td>\n",
       "      <td>48</td>\n",
       "      <td>0</td>\n",
       "      <td>0</td>\n",
       "      <td>19952</td>\n",
       "      <td>26.55</td>\n",
       "      <td>E12</td>\n",
       "      <td>S</td>\n",
       "      <td>3</td>\n",
       "      <td>?</td>\n",
       "      <td>New York, NY</td>\n",
       "    </tr>\n",
       "    <tr>\n",
       "      <th>6</th>\n",
       "      <td>1</td>\n",
       "      <td>1</td>\n",
       "      <td>Andrews, Miss. Kornelia Theodosia</td>\n",
       "      <td>female</td>\n",
       "      <td>63</td>\n",
       "      <td>1</td>\n",
       "      <td>0</td>\n",
       "      <td>13502</td>\n",
       "      <td>77.9583</td>\n",
       "      <td>D7</td>\n",
       "      <td>S</td>\n",
       "      <td>10</td>\n",
       "      <td>?</td>\n",
       "      <td>Hudson, NY</td>\n",
       "    </tr>\n",
       "    <tr>\n",
       "      <th>7</th>\n",
       "      <td>1</td>\n",
       "      <td>0</td>\n",
       "      <td>Andrews, Mr. Thomas Jr</td>\n",
       "      <td>male</td>\n",
       "      <td>39</td>\n",
       "      <td>0</td>\n",
       "      <td>0</td>\n",
       "      <td>112050</td>\n",
       "      <td>0</td>\n",
       "      <td>A36</td>\n",
       "      <td>S</td>\n",
       "      <td>?</td>\n",
       "      <td>?</td>\n",
       "      <td>Belfast, NI</td>\n",
       "    </tr>\n",
       "    <tr>\n",
       "      <th>8</th>\n",
       "      <td>1</td>\n",
       "      <td>1</td>\n",
       "      <td>Appleton, Mrs. Edward Dale (Charlotte Lamson)</td>\n",
       "      <td>female</td>\n",
       "      <td>53</td>\n",
       "      <td>2</td>\n",
       "      <td>0</td>\n",
       "      <td>11769</td>\n",
       "      <td>51.4792</td>\n",
       "      <td>C101</td>\n",
       "      <td>S</td>\n",
       "      <td>D</td>\n",
       "      <td>?</td>\n",
       "      <td>Bayside, Queens, NY</td>\n",
       "    </tr>\n",
       "    <tr>\n",
       "      <th>9</th>\n",
       "      <td>1</td>\n",
       "      <td>0</td>\n",
       "      <td>Artagaveytia, Mr. Ramon</td>\n",
       "      <td>male</td>\n",
       "      <td>71</td>\n",
       "      <td>0</td>\n",
       "      <td>0</td>\n",
       "      <td>PC 17609</td>\n",
       "      <td>49.5042</td>\n",
       "      <td>?</td>\n",
       "      <td>C</td>\n",
       "      <td>?</td>\n",
       "      <td>22</td>\n",
       "      <td>Montevideo, Uruguay</td>\n",
       "    </tr>\n",
       "    <tr>\n",
       "      <th>10</th>\n",
       "      <td>1</td>\n",
       "      <td>0</td>\n",
       "      <td>Astor, Col. John Jacob</td>\n",
       "      <td>male</td>\n",
       "      <td>47</td>\n",
       "      <td>1</td>\n",
       "      <td>0</td>\n",
       "      <td>PC 17757</td>\n",
       "      <td>227.525</td>\n",
       "      <td>C62 C64</td>\n",
       "      <td>C</td>\n",
       "      <td>?</td>\n",
       "      <td>124</td>\n",
       "      <td>New York, NY</td>\n",
       "    </tr>\n",
       "    <tr>\n",
       "      <th>11</th>\n",
       "      <td>1</td>\n",
       "      <td>1</td>\n",
       "      <td>Astor, Mrs. John Jacob (Madeleine Talmadge Force)</td>\n",
       "      <td>female</td>\n",
       "      <td>18</td>\n",
       "      <td>1</td>\n",
       "      <td>0</td>\n",
       "      <td>PC 17757</td>\n",
       "      <td>227.525</td>\n",
       "      <td>C62 C64</td>\n",
       "      <td>C</td>\n",
       "      <td>4</td>\n",
       "      <td>?</td>\n",
       "      <td>New York, NY</td>\n",
       "    </tr>\n",
       "    <tr>\n",
       "      <th>12</th>\n",
       "      <td>1</td>\n",
       "      <td>1</td>\n",
       "      <td>Aubart, Mme. Leontine Pauline</td>\n",
       "      <td>female</td>\n",
       "      <td>24</td>\n",
       "      <td>0</td>\n",
       "      <td>0</td>\n",
       "      <td>PC 17477</td>\n",
       "      <td>69.3</td>\n",
       "      <td>B35</td>\n",
       "      <td>C</td>\n",
       "      <td>9</td>\n",
       "      <td>?</td>\n",
       "      <td>Paris, France</td>\n",
       "    </tr>\n",
       "    <tr>\n",
       "      <th>13</th>\n",
       "      <td>1</td>\n",
       "      <td>1</td>\n",
       "      <td>Barber, Miss. Ellen 'Nellie'</td>\n",
       "      <td>female</td>\n",
       "      <td>26</td>\n",
       "      <td>0</td>\n",
       "      <td>0</td>\n",
       "      <td>19877</td>\n",
       "      <td>78.85</td>\n",
       "      <td>?</td>\n",
       "      <td>S</td>\n",
       "      <td>6</td>\n",
       "      <td>?</td>\n",
       "      <td>?</td>\n",
       "    </tr>\n",
       "    <tr>\n",
       "      <th>14</th>\n",
       "      <td>1</td>\n",
       "      <td>1</td>\n",
       "      <td>Barkworth, Mr. Algernon Henry Wilson</td>\n",
       "      <td>male</td>\n",
       "      <td>80</td>\n",
       "      <td>0</td>\n",
       "      <td>0</td>\n",
       "      <td>27042</td>\n",
       "      <td>30</td>\n",
       "      <td>A23</td>\n",
       "      <td>S</td>\n",
       "      <td>B</td>\n",
       "      <td>?</td>\n",
       "      <td>Hessle, Yorks</td>\n",
       "    </tr>\n",
       "    <tr>\n",
       "      <th>15</th>\n",
       "      <td>1</td>\n",
       "      <td>0</td>\n",
       "      <td>Baumann, Mr. John D</td>\n",
       "      <td>male</td>\n",
       "      <td>?</td>\n",
       "      <td>0</td>\n",
       "      <td>0</td>\n",
       "      <td>PC 17318</td>\n",
       "      <td>25.925</td>\n",
       "      <td>?</td>\n",
       "      <td>S</td>\n",
       "      <td>?</td>\n",
       "      <td>?</td>\n",
       "      <td>New York, NY</td>\n",
       "    </tr>\n",
       "    <tr>\n",
       "      <th>16</th>\n",
       "      <td>1</td>\n",
       "      <td>0</td>\n",
       "      <td>Baxter, Mr. Quigg Edmond</td>\n",
       "      <td>male</td>\n",
       "      <td>24</td>\n",
       "      <td>0</td>\n",
       "      <td>1</td>\n",
       "      <td>PC 17558</td>\n",
       "      <td>247.5208</td>\n",
       "      <td>B58 B60</td>\n",
       "      <td>C</td>\n",
       "      <td>?</td>\n",
       "      <td>?</td>\n",
       "      <td>Montreal, PQ</td>\n",
       "    </tr>\n",
       "    <tr>\n",
       "      <th>17</th>\n",
       "      <td>1</td>\n",
       "      <td>1</td>\n",
       "      <td>Baxter, Mrs. James (Helene DeLaudeniere Chaput)</td>\n",
       "      <td>female</td>\n",
       "      <td>50</td>\n",
       "      <td>0</td>\n",
       "      <td>1</td>\n",
       "      <td>PC 17558</td>\n",
       "      <td>247.5208</td>\n",
       "      <td>B58 B60</td>\n",
       "      <td>C</td>\n",
       "      <td>6</td>\n",
       "      <td>?</td>\n",
       "      <td>Montreal, PQ</td>\n",
       "    </tr>\n",
       "    <tr>\n",
       "      <th>18</th>\n",
       "      <td>1</td>\n",
       "      <td>1</td>\n",
       "      <td>Bazzani, Miss. Albina</td>\n",
       "      <td>female</td>\n",
       "      <td>32</td>\n",
       "      <td>0</td>\n",
       "      <td>0</td>\n",
       "      <td>11813</td>\n",
       "      <td>76.2917</td>\n",
       "      <td>D15</td>\n",
       "      <td>C</td>\n",
       "      <td>8</td>\n",
       "      <td>?</td>\n",
       "      <td>?</td>\n",
       "    </tr>\n",
       "    <tr>\n",
       "      <th>19</th>\n",
       "      <td>1</td>\n",
       "      <td>0</td>\n",
       "      <td>Beattie, Mr. Thomson</td>\n",
       "      <td>male</td>\n",
       "      <td>36</td>\n",
       "      <td>0</td>\n",
       "      <td>0</td>\n",
       "      <td>13050</td>\n",
       "      <td>75.2417</td>\n",
       "      <td>C6</td>\n",
       "      <td>C</td>\n",
       "      <td>A</td>\n",
       "      <td>?</td>\n",
       "      <td>Winnipeg, MN</td>\n",
       "    </tr>\n",
       "  </tbody>\n",
       "</table>\n",
       "</div>"
      ],
      "text/plain": [
       "    pclass  survived                                               name  \\\n",
       "0        1         1                      Allen, Miss. Elisabeth Walton   \n",
       "1        1         1                     Allison, Master. Hudson Trevor   \n",
       "2        1         0                       Allison, Miss. Helen Loraine   \n",
       "3        1         0               Allison, Mr. Hudson Joshua Creighton   \n",
       "4        1         0    Allison, Mrs. Hudson J C (Bessie Waldo Daniels)   \n",
       "5        1         1                                Anderson, Mr. Harry   \n",
       "6        1         1                  Andrews, Miss. Kornelia Theodosia   \n",
       "7        1         0                             Andrews, Mr. Thomas Jr   \n",
       "8        1         1      Appleton, Mrs. Edward Dale (Charlotte Lamson)   \n",
       "9        1         0                            Artagaveytia, Mr. Ramon   \n",
       "10       1         0                             Astor, Col. John Jacob   \n",
       "11       1         1  Astor, Mrs. John Jacob (Madeleine Talmadge Force)   \n",
       "12       1         1                      Aubart, Mme. Leontine Pauline   \n",
       "13       1         1                       Barber, Miss. Ellen 'Nellie'   \n",
       "14       1         1               Barkworth, Mr. Algernon Henry Wilson   \n",
       "15       1         0                                Baumann, Mr. John D   \n",
       "16       1         0                           Baxter, Mr. Quigg Edmond   \n",
       "17       1         1    Baxter, Mrs. James (Helene DeLaudeniere Chaput)   \n",
       "18       1         1                              Bazzani, Miss. Albina   \n",
       "19       1         0                               Beattie, Mr. Thomson   \n",
       "\n",
       "       sex     age  sibsp  parch    ticket      fare    cabin embarked boat  \\\n",
       "0   female      29      0      0     24160  211.3375       B5        S    2   \n",
       "1     male  0.9167      1      2    113781    151.55  C22 C26        S   11   \n",
       "2   female       2      1      2    113781    151.55  C22 C26        S    ?   \n",
       "3     male      30      1      2    113781    151.55  C22 C26        S    ?   \n",
       "4   female      25      1      2    113781    151.55  C22 C26        S    ?   \n",
       "5     male      48      0      0     19952     26.55      E12        S    3   \n",
       "6   female      63      1      0     13502   77.9583       D7        S   10   \n",
       "7     male      39      0      0    112050         0      A36        S    ?   \n",
       "8   female      53      2      0     11769   51.4792     C101        S    D   \n",
       "9     male      71      0      0  PC 17609   49.5042        ?        C    ?   \n",
       "10    male      47      1      0  PC 17757   227.525  C62 C64        C    ?   \n",
       "11  female      18      1      0  PC 17757   227.525  C62 C64        C    4   \n",
       "12  female      24      0      0  PC 17477      69.3      B35        C    9   \n",
       "13  female      26      0      0     19877     78.85        ?        S    6   \n",
       "14    male      80      0      0     27042        30      A23        S    B   \n",
       "15    male       ?      0      0  PC 17318    25.925        ?        S    ?   \n",
       "16    male      24      0      1  PC 17558  247.5208  B58 B60        C    ?   \n",
       "17  female      50      0      1  PC 17558  247.5208  B58 B60        C    6   \n",
       "18  female      32      0      0     11813   76.2917      D15        C    8   \n",
       "19    male      36      0      0     13050   75.2417       C6        C    A   \n",
       "\n",
       "   body                        home.dest  \n",
       "0     ?                     St Louis, MO  \n",
       "1     ?  Montreal, PQ / Chesterville, ON  \n",
       "2     ?  Montreal, PQ / Chesterville, ON  \n",
       "3   135  Montreal, PQ / Chesterville, ON  \n",
       "4     ?  Montreal, PQ / Chesterville, ON  \n",
       "5     ?                     New York, NY  \n",
       "6     ?                       Hudson, NY  \n",
       "7     ?                      Belfast, NI  \n",
       "8     ?              Bayside, Queens, NY  \n",
       "9    22              Montevideo, Uruguay  \n",
       "10  124                     New York, NY  \n",
       "11    ?                     New York, NY  \n",
       "12    ?                    Paris, France  \n",
       "13    ?                                ?  \n",
       "14    ?                    Hessle, Yorks  \n",
       "15    ?                     New York, NY  \n",
       "16    ?                     Montreal, PQ  \n",
       "17    ?                     Montreal, PQ  \n",
       "18    ?                                ?  \n",
       "19    ?                     Winnipeg, MN  "
      ]
     },
     "execution_count": 4,
     "metadata": {},
     "output_type": "execute_result"
    }
   ],
   "source": [
    "df.head(20)"
   ]
  },
  {
   "cell_type": "code",
   "execution_count": 5,
   "metadata": {
    "colab": {
     "base_uri": "https://localhost:8080/",
     "height": 0
    },
    "id": "SauOevTiJWz1",
    "outputId": "f5cd1b1b-6fab-4090-b814-cd5087db1144"
   },
   "outputs": [
    {
     "data": {
      "text/plain": [
       "(1309, 14)"
      ]
     },
     "execution_count": 5,
     "metadata": {},
     "output_type": "execute_result"
    }
   ],
   "source": [
    "df.shape"
   ]
  },
  {
   "cell_type": "markdown",
   "metadata": {
    "id": "ysA1aobfJJIE"
   },
   "source": [
    "W zbiorze danych danych znajduje się 14 cech i 1309 obserwacji\n",
    "\n",
    "---\n",
    "\n"
   ]
  },
  {
   "cell_type": "code",
   "execution_count": 6,
   "metadata": {
    "colab": {
     "base_uri": "https://localhost:8080/",
     "height": 0
    },
    "id": "rVvISXM8jm-d",
    "outputId": "2c94faf2-bf5a-4a22-da30-f5cc206e5548"
   },
   "outputs": [
    {
     "name": "stdout",
     "output_type": "stream",
     "text": [
      "<class 'pandas.core.frame.DataFrame'>\n",
      "RangeIndex: 1309 entries, 0 to 1308\n",
      "Data columns (total 14 columns):\n",
      " #   Column     Non-Null Count  Dtype \n",
      "---  ------     --------------  ----- \n",
      " 0   pclass     1309 non-null   int64 \n",
      " 1   survived   1309 non-null   int64 \n",
      " 2   name       1309 non-null   object\n",
      " 3   sex        1309 non-null   object\n",
      " 4   age        1309 non-null   object\n",
      " 5   sibsp      1309 non-null   int64 \n",
      " 6   parch      1309 non-null   int64 \n",
      " 7   ticket     1309 non-null   object\n",
      " 8   fare       1309 non-null   object\n",
      " 9   cabin      1309 non-null   object\n",
      " 10  embarked   1309 non-null   object\n",
      " 11  boat       1309 non-null   object\n",
      " 12  body       1309 non-null   object\n",
      " 13  home.dest  1309 non-null   object\n",
      "dtypes: int64(4), object(10)\n",
      "memory usage: 143.3+ KB\n"
     ]
    }
   ],
   "source": [
    "df.info()"
   ]
  },
  {
   "cell_type": "markdown",
   "metadata": {
    "id": "6nhZSfNjNPid"
   },
   "source": [
    "Kolumny to kolejno:\n",
    "- pclass - klasa biletu\n",
    "- survived - informacja czy pasażer przeżył\n",
    "- name - imię pasażera\n",
    "- sex - płeć\n",
    "- age - wiek\n",
    "- sibsp - liczba rodzeństwa, małżonków na pokładzie\n",
    "- parch - liczba rodziców, dzieci na pokładzie\n",
    "- ticket - numer biletu\n",
    "- fare - opłata pasażera (funt brytyjski)\n",
    "- cabin  - numer kabiny\n",
    "- embarked - port w którym pasażerowie weszli na pokład\n",
    "- boat - oznacznie łodzi ratunkowej\n",
    "- body - numer identyfikacyjny ciała\n",
    "- home.dest - dom/miejsce docelowe\n",
    "\n",
    "\n",
    "\n",
    "Rodzeństwo: brat, siostra, przyrodni brat lub przyrodnia siostra pasażera na pokładzie Titanica\n",
    "Małżonek: mąż lub żona pasażera na pokładzie Titanica (kochanki i narzeczeni\n",
    "Ignorowani)\n",
    "Rodzic: Matka lub ojciec pasażera na pokładzie Titanica\n",
    "Dziecko: syn, córka, pasierb lub pasierbica pasażera na pokładzie Titanica\n"
   ]
  },
  {
   "cell_type": "markdown",
   "metadata": {
    "id": "zBih4R-I6M8i"
   },
   "source": [
    "# Zadanie 2"
   ]
  },
  {
   "cell_type": "code",
   "execution_count": 7,
   "metadata": {
    "colab": {
     "base_uri": "https://localhost:8080/",
     "height": 0
    },
    "id": "1AFiX0R_i2fL",
    "outputId": "b1c0eda9-2c0b-4d3f-bece-74bb391b22c6"
   },
   "outputs": [
    {
     "data": {
      "text/plain": [
       "pclass       0\n",
       "survived     0\n",
       "name         0\n",
       "sex          0\n",
       "age          0\n",
       "sibsp        0\n",
       "parch        0\n",
       "ticket       0\n",
       "fare         0\n",
       "cabin        0\n",
       "embarked     0\n",
       "boat         0\n",
       "body         0\n",
       "home.dest    0\n",
       "dtype: int64"
      ]
     },
     "execution_count": 7,
     "metadata": {},
     "output_type": "execute_result"
    }
   ],
   "source": [
    " df.isnull().sum()"
   ]
  },
  {
   "cell_type": "markdown",
   "metadata": {
    "id": "ts-0d2pPjhPm"
   },
   "source": [
    "Domyślnie w danych Nan zostało oznaczone jako '?' więc kolejnym krokiem będzie zamienienie tego"
   ]
  },
  {
   "cell_type": "code",
   "execution_count": 8,
   "metadata": {
    "id": "Kt3vBmsJkDVA"
   },
   "outputs": [],
   "source": [
    "df.replace('?', np.nan, inplace = True)"
   ]
  },
  {
   "cell_type": "code",
   "execution_count": 9,
   "metadata": {
    "colab": {
     "base_uri": "https://localhost:8080/",
     "height": 687
    },
    "id": "dmbuPc-GmfD4",
    "outputId": "33299093-0477-4ef4-c427-43cefe120f8d"
   },
   "outputs": [
    {
     "data": {
      "text/plain": [
       "<Axes: >"
      ]
     },
     "execution_count": 9,
     "metadata": {},
     "output_type": "execute_result"
    },
    {
     "data": {
      "image/png": "[encoded data removed]",
      "text/plain": [
       "<Figure size 1200x600 with 3 Axes>"
      ]
     },
     "metadata": {},
     "output_type": "display_data"
    }
   ],
   "source": [
    "msno.bar(df, color = 'lightblue', sort = 'descending', figsize = (12,6))"
   ]
  },
  {
   "cell_type": "code",
   "execution_count": 10,
   "metadata": {
    "colab": {
     "base_uri": "https://localhost:8080/",
     "height": 0
    },
    "id": "PCnI1Xt-kTiA",
    "outputId": "465f6d07-d3cf-4efe-aeb4-fe99c5a1742e"
   },
   "outputs": [
    {
     "data": {
      "text/plain": [
       "pclass          0\n",
       "survived        0\n",
       "name            0\n",
       "sex             0\n",
       "age           263\n",
       "sibsp           0\n",
       "parch           0\n",
       "ticket          0\n",
       "fare            1\n",
       "cabin        1014\n",
       "embarked        2\n",
       "boat          823\n",
       "body         1188\n",
       "home.dest     564\n",
       "dtype: int64"
      ]
     },
     "execution_count": 10,
     "metadata": {},
     "output_type": "execute_result"
    }
   ],
   "source": [
    "df.isnull().sum()"
   ]
  },
  {
   "cell_type": "code",
   "execution_count": 11,
   "metadata": {
    "colab": {
     "base_uri": "https://localhost:8080/",
     "height": 0
    },
    "id": "rJbvdz98klYd",
    "outputId": "6f7bb128-d880-4c45-a150-4cadd3052180"
   },
   "outputs": [
    {
     "data": {
      "text/plain": [
       "pclass       0.000000\n",
       "survived     0.000000\n",
       "name         0.000000\n",
       "sex          0.000000\n",
       "age          0.200917\n",
       "sibsp        0.000000\n",
       "parch        0.000000\n",
       "ticket       0.000000\n",
       "fare         0.000764\n",
       "cabin        0.774637\n",
       "embarked     0.001528\n",
       "boat         0.628724\n",
       "body         0.907563\n",
       "home.dest    0.430863\n",
       "dtype: float64"
      ]
     },
     "execution_count": 11,
     "metadata": {},
     "output_type": "execute_result"
    }
   ],
   "source": [
    " df.isnull().mean()"
   ]
  },
  {
   "cell_type": "markdown",
   "metadata": {
    "id": "4b0BXY8Zkvct"
   },
   "source": [
    "Kolumny takie jak age, cabin, boat, body i home.dest mają wysoki procent brakujących danych. Musimy przyjrzeć się temu bliżej, ponieważ usunięcie ich jest niemożliwe, a dodatkowo brakujące wartości mogą zawierać jąkąś informację.\n",
    "\n",
    "Liczba brakujących wartości w kolumnach fare i embarked to kolejno 1 i 2. Jest\n",
    "to na tyle mało, że ciężko byłoby wyciągnąć jednoznaczne wnioski, że jest to od czegoś zależne. Dodatkowo usuwając te wiersze nasz zbiór wciąż byłyby wystarczająco duży ***MCAR***"
   ]
  },
  {
   "cell_type": "markdown",
   "metadata": {
    "id": "J2P9T0sNRmpV"
   },
   "source": [
    "Na pierwszy rzut oka intuicja podpowiada, że brakujące wartości w kolumnie boat są silnie powiązane z faktem czy ktoś ocalał (większość osób która zaginęła nie została ewakuowana ze statku). Kolumna body również zdaje się być z tym powiązana bo identyfikatory ciała zostały przypisane tylko osobom które zginęły i ich ciało zostało odnalezione"
   ]
  },
  {
   "cell_type": "markdown",
   "metadata": {
    "id": "pJXmqZ3b6SDT"
   },
   "source": [
    "# Zadanie 3"
   ]
  },
  {
   "cell_type": "markdown",
   "metadata": {
    "id": "mpREqiZul0bi"
   },
   "source": [
    "Dodatkowo wczytane przez nas kolumny przez występowanie '?' zmieniły swój typ na object, więc zmienie je na takie jakie były podane w opisie danych"
   ]
  },
  {
   "cell_type": "code",
   "execution_count": 12,
   "metadata": {
    "id": "cPRxagUymNTg"
   },
   "outputs": [],
   "source": [
    "df['age'] = pd.to_numeric(df['age'], errors='coerce')\n",
    "df['fare'] = pd.to_numeric(df['fare'], errors='coerce')\n",
    "df['body'] = pd.to_numeric(df['body'], errors='coerce')\n"
   ]
  },
  {
   "cell_type": "code",
   "execution_count": 13,
   "metadata": {
    "colab": {
     "base_uri": "https://localhost:8080/",
     "height": 0
    },
    "id": "vc-mmKdym__w",
    "outputId": "e105b6b4-9a28-4062-ed7f-d5eec0d74c7e"
   },
   "outputs": [
    {
     "name": "stdout",
     "output_type": "stream",
     "text": [
      "<class 'pandas.core.frame.DataFrame'>\n",
      "RangeIndex: 1309 entries, 0 to 1308\n",
      "Data columns (total 14 columns):\n",
      " #   Column     Non-Null Count  Dtype  \n",
      "---  ------     --------------  -----  \n",
      " 0   pclass     1309 non-null   int64  \n",
      " 1   survived   1309 non-null   int64  \n",
      " 2   name       1309 non-null   object \n",
      " 3   sex        1309 non-null   object \n",
      " 4   age        1046 non-null   float64\n",
      " 5   sibsp      1309 non-null   int64  \n",
      " 6   parch      1309 non-null   int64  \n",
      " 7   ticket     1309 non-null   object \n",
      " 8   fare       1308 non-null   float64\n",
      " 9   cabin      295 non-null    object \n",
      " 10  embarked   1307 non-null   object \n",
      " 11  boat       486 non-null    object \n",
      " 12  body       121 non-null    float64\n",
      " 13  home.dest  745 non-null    object \n",
      "dtypes: float64(3), int64(4), object(7)\n",
      "memory usage: 143.3+ KB\n"
     ]
    }
   ],
   "source": [
    "df.info()"
   ]
  },
  {
   "cell_type": "markdown",
   "metadata": {
    "id": "yYvxdLQInYUi"
   },
   "source": [
    "Teraz zdecydowałam się na stworzenie nowych kolumn, które będą nas informować o brakujących wartościach w danych kolumnach i ułatwią wyciągnięcie dalszych wniosów na temat tego czy jest to od czegoś zależne, w szczególności czy taka osoba przeżyła rejs"
   ]
  },
  {
   "cell_type": "code",
   "execution_count": 14,
   "metadata": {
    "id": "FE2TwwKHoSJq"
   },
   "outputs": [],
   "source": [
    "df['ageNull'] = np.where(df['age'].isnull(), 1, 0)\n",
    "df['cabinNull'] = np.where(df['cabin'].isnull(), 1, 0)\n",
    "df['boatNull'] = np.where(df['boat'].isnull(), 1, 0)\n",
    "df['bodyNull'] = np.where(df['body'].isnull(), 1, 0)\n",
    "df['home.destNull'] = np.where(df['home.dest'].isnull(), 1, 0)"
   ]
  },
  {
   "cell_type": "markdown",
   "metadata": {
    "id": "taVe-fB6tpvD"
   },
   "source": [
    "## age"
   ]
  },
  {
   "cell_type": "code",
   "execution_count": 15,
   "metadata": {
    "colab": {
     "base_uri": "https://localhost:8080/",
     "height": 0
    },
    "id": "eNrrwOiIqFHV",
    "outputId": "dc666e9b-24c5-4fa8-9760-26804d12f25b"
   },
   "outputs": [
    {
     "data": {
      "text/plain": [
       "survived\n",
       "0    0.234858\n",
       "1    0.146000\n",
       "Name: ageNull, dtype: float64"
      ]
     },
     "execution_count": 15,
     "metadata": {},
     "output_type": "execute_result"
    }
   ],
   "source": [
    "df.groupby(['survived'])['ageNull'].mean()"
   ]
  },
  {
   "cell_type": "code",
   "execution_count": 16,
   "metadata": {
    "colab": {
     "base_uri": "https://localhost:8080/",
     "height": 426
    },
    "id": "9yS8VQnmzL9O",
    "outputId": "46c1d1a2-4f06-4524-c9cf-d634aa1e2b40"
   },
   "outputs": [
    {
     "data": {
      "text/html": [
       "<div>\n",
       "<style scoped>\n",
       "    .dataframe tbody tr th:only-of-type {\n",
       "        vertical-align: middle;\n",
       "    }\n",
       "\n",
       "    .dataframe tbody tr th {\n",
       "        vertical-align: top;\n",
       "    }\n",
       "\n",
       "    .dataframe thead th {\n",
       "        text-align: right;\n",
       "    }\n",
       "</style>\n",
       "<table border=\"1\" class=\"dataframe\">\n",
       "  <thead>\n",
       "    <tr style=\"text-align: right;\">\n",
       "      <th></th>\n",
       "      <th>ageNull</th>\n",
       "    </tr>\n",
       "  </thead>\n",
       "  <tbody>\n",
       "    <tr>\n",
       "      <th>pclass</th>\n",
       "      <td>0.208175</td>\n",
       "    </tr>\n",
       "    <tr>\n",
       "      <th>survived</th>\n",
       "      <td>-0.107749</td>\n",
       "    </tr>\n",
       "    <tr>\n",
       "      <th>age</th>\n",
       "      <td>NaN</td>\n",
       "    </tr>\n",
       "    <tr>\n",
       "      <th>sibsp</th>\n",
       "      <td>-0.007688</td>\n",
       "    </tr>\n",
       "    <tr>\n",
       "      <th>parch</th>\n",
       "      <td>-0.082109</td>\n",
       "    </tr>\n",
       "    <tr>\n",
       "      <th>fare</th>\n",
       "      <td>-0.130629</td>\n",
       "    </tr>\n",
       "    <tr>\n",
       "      <th>body</th>\n",
       "      <td>-0.007328</td>\n",
       "    </tr>\n",
       "    <tr>\n",
       "      <th>ageNull</th>\n",
       "      <td>1.000000</td>\n",
       "    </tr>\n",
       "    <tr>\n",
       "      <th>cabinNull</th>\n",
       "      <td>0.165508</td>\n",
       "    </tr>\n",
       "    <tr>\n",
       "      <th>boatNull</th>\n",
       "      <td>0.113041</td>\n",
       "    </tr>\n",
       "    <tr>\n",
       "      <th>bodyNull</th>\n",
       "      <td>0.153446</td>\n",
       "    </tr>\n",
       "    <tr>\n",
       "      <th>home.destNull</th>\n",
       "      <td>0.345293</td>\n",
       "    </tr>\n",
       "  </tbody>\n",
       "</table>\n",
       "</div>"
      ],
      "text/plain": [
       "                ageNull\n",
       "pclass         0.208175\n",
       "survived      -0.107749\n",
       "age                 NaN\n",
       "sibsp         -0.007688\n",
       "parch         -0.082109\n",
       "fare          -0.130629\n",
       "body          -0.007328\n",
       "ageNull        1.000000\n",
       "cabinNull      0.165508\n",
       "boatNull       0.113041\n",
       "bodyNull       0.153446\n",
       "home.destNull  0.345293"
      ]
     },
     "execution_count": 16,
     "metadata": {},
     "output_type": "execute_result"
    }
   ],
   "source": [
    "df.corr(numeric_only=True)[['ageNull']]"
   ]
  },
  {
   "cell_type": "markdown",
   "metadata": {
    "id": "9rHnM2HCzuAp"
   },
   "source": [
    "Co zadziwiające zmienna ta nie jest mocno związana z przeżyciem. Istnieje korelacja między nią oraz brakującą wartością w miejscu zamieszkania. Nie sądzę jednak, aby w tym przypadku był jakiś mechanizm przyczynowo skutkowy który by to spowodował - jest to po prostu dość szegółowa informacja tak samo jak miejsce zamieszkania ***MAR***"
   ]
  },
  {
   "cell_type": "markdown",
   "metadata": {
    "id": "f61Yu_xRtiRi"
   },
   "source": [
    "## cabin"
   ]
  },
  {
   "cell_type": "code",
   "execution_count": 17,
   "metadata": {
    "colab": {
     "base_uri": "https://localhost:8080/",
     "height": 0
    },
    "id": "m7Sgsa1tT07S",
    "outputId": "ab535155-a4ef-43e0-8c48-53374a885dc5"
   },
   "outputs": [
    {
     "data": {
      "text/plain": [
       "survived\n",
       "0    0.873918\n",
       "1    0.614000\n",
       "Name: cabinNull, dtype: float64"
      ]
     },
     "execution_count": 17,
     "metadata": {},
     "output_type": "execute_result"
    }
   ],
   "source": [
    "df.groupby(['survived'])['cabinNull'].mean()"
   ]
  },
  {
   "cell_type": "code",
   "execution_count": 18,
   "metadata": {
    "colab": {
     "base_uri": "https://localhost:8080/",
     "height": 0
    },
    "id": "HGE4ikh4tLV8",
    "outputId": "02a54b31-e9d6-4e5c-b837-50d6aaf8f180"
   },
   "outputs": [
    {
     "data": {
      "text/plain": [
       "pclass\n",
       "1    0.207430\n",
       "2    0.916968\n",
       "3    0.977433\n",
       "Name: cabinNull, dtype: float64"
      ]
     },
     "execution_count": 18,
     "metadata": {},
     "output_type": "execute_result"
    }
   ],
   "source": [
    "df.groupby(['pclass'])['cabinNull'].mean()"
   ]
  },
  {
   "cell_type": "markdown",
   "metadata": {
    "id": "vP2qwsACt8o0"
   },
   "source": [
    "Podejrzewam, że na brakujące wartości w tej kolumnie może mieć wpływ wiele czynników i mogą one mieć związek z tym, czy ktoś był zamożny, jakiej klasy miał bilet, może wgl ktoś nie dostał kabiny. Sam fakt tego czy ktoś przeżył mógł być również z tym powiązany ***MNAR***"
   ]
  },
  {
   "cell_type": "markdown",
   "metadata": {
    "id": "EUTpFE3PtWk9"
   },
   "source": [
    "## boat"
   ]
  },
  {
   "cell_type": "code",
   "execution_count": 19,
   "metadata": {
    "colab": {
     "base_uri": "https://localhost:8080/",
     "height": 0
    },
    "id": "fQUrYa3cT04l",
    "outputId": "fc8cf15c-5bc3-4c2b-b470-ed6a3abf9fd1"
   },
   "outputs": [
    {
     "data": {
      "text/plain": [
       "survived\n",
       "0    0.988875\n",
       "1    0.046000\n",
       "Name: boatNull, dtype: float64"
      ]
     },
     "execution_count": 19,
     "metadata": {},
     "output_type": "execute_result"
    }
   ],
   "source": [
    "df.groupby(['survived'])['boatNull'].mean()"
   ]
  },
  {
   "cell_type": "markdown",
   "metadata": {
    "id": "5RjxyqXqXBLY"
   },
   "source": [
    "Moim zdaniem mamy tutaj do czynienie z ***MNAR***. Osoby, które nie przeżyły w większości przypadków nie były najpewniej zabrane łódką ratunkową z tonącego statku. Podejrzewam, że dlatego wartość ta nie wynosi 100%, gdyż  mogła zdarzyć, się sytuacja że ktoś wsiadł do łódki w złym stanie/ mógł z niej wypaść.."
   ]
  },
  {
   "cell_type": "markdown",
   "metadata": {
    "id": "s9DJPzm4tdB_"
   },
   "source": [
    "## body"
   ]
  },
  {
   "cell_type": "code",
   "execution_count": 20,
   "metadata": {
    "colab": {
     "base_uri": "https://localhost:8080/",
     "height": 0
    },
    "id": "JsQMPvAST0x5",
    "outputId": "725547e8-9fac-4541-e42b-1e188aa03085"
   },
   "outputs": [
    {
     "data": {
      "text/plain": [
       "survived\n",
       "0    0.850433\n",
       "1    1.000000\n",
       "Name: bodyNull, dtype: float64"
      ]
     },
     "execution_count": 20,
     "metadata": {},
     "output_type": "execute_result"
    }
   ],
   "source": [
    "df.groupby(['survived'])['bodyNull'].mean()"
   ]
  },
  {
   "cell_type": "markdown",
   "metadata": {
    "id": "cymVAZP0VrRZ"
   },
   "source": [
    "Wcześniej postawione podejrzanie jest prawdziwe dla osób które przeżyły brakujące wartości w kolumnie body są  zamierzone - ***MNAR***"
   ]
  },
  {
   "cell_type": "markdown",
   "metadata": {
    "id": "o1HYacPItZNt"
   },
   "source": [
    "## home.dest"
   ]
  },
  {
   "cell_type": "code",
   "execution_count": 21,
   "metadata": {
    "colab": {
     "base_uri": "https://localhost:8080/",
     "height": 0
    },
    "id": "cWkNmVy1T0js",
    "outputId": "24d84290-685b-4047-de15-0cc84922827d"
   },
   "outputs": [
    {
     "data": {
      "text/plain": [
       "survived\n",
       "0    0.508035\n",
       "1    0.306000\n",
       "Name: home.destNull, dtype: float64"
      ]
     },
     "execution_count": 21,
     "metadata": {},
     "output_type": "execute_result"
    }
   ],
   "source": [
    "df.groupby(['survived'])['home.destNull'].mean()"
   ]
  },
  {
   "cell_type": "code",
   "execution_count": 22,
   "metadata": {
    "colab": {
     "base_uri": "https://localhost:8080/",
     "height": 426
    },
    "id": "7S8BeZw9zjBc",
    "outputId": "6191babe-de81-4f0c-aaf9-0c1de9db697d"
   },
   "outputs": [
    {
     "data": {
      "text/html": [
       "<div>\n",
       "<style scoped>\n",
       "    .dataframe tbody tr th:only-of-type {\n",
       "        vertical-align: middle;\n",
       "    }\n",
       "\n",
       "    .dataframe tbody tr th {\n",
       "        vertical-align: top;\n",
       "    }\n",
       "\n",
       "    .dataframe thead th {\n",
       "        text-align: right;\n",
       "    }\n",
       "</style>\n",
       "<table border=\"1\" class=\"dataframe\">\n",
       "  <thead>\n",
       "    <tr style=\"text-align: right;\">\n",
       "      <th></th>\n",
       "      <th>home.destNull</th>\n",
       "    </tr>\n",
       "  </thead>\n",
       "  <tbody>\n",
       "    <tr>\n",
       "      <th>pclass</th>\n",
       "      <td>0.577811</td>\n",
       "    </tr>\n",
       "    <tr>\n",
       "      <th>survived</th>\n",
       "      <td>-0.198229</td>\n",
       "    </tr>\n",
       "    <tr>\n",
       "      <th>age</th>\n",
       "      <td>-0.187382</td>\n",
       "    </tr>\n",
       "    <tr>\n",
       "      <th>sibsp</th>\n",
       "      <td>-0.030155</td>\n",
       "    </tr>\n",
       "    <tr>\n",
       "      <th>parch</th>\n",
       "      <td>-0.107256</td>\n",
       "    </tr>\n",
       "    <tr>\n",
       "      <th>fare</th>\n",
       "      <td>-0.209569</td>\n",
       "    </tr>\n",
       "    <tr>\n",
       "      <th>body</th>\n",
       "      <td>0.006620</td>\n",
       "    </tr>\n",
       "    <tr>\n",
       "      <th>ageNull</th>\n",
       "      <td>0.345293</td>\n",
       "    </tr>\n",
       "    <tr>\n",
       "      <th>cabinNull</th>\n",
       "      <td>0.332690</td>\n",
       "    </tr>\n",
       "    <tr>\n",
       "      <th>boatNull</th>\n",
       "      <td>0.205630</td>\n",
       "    </tr>\n",
       "    <tr>\n",
       "      <th>bodyNull</th>\n",
       "      <td>0.022021</td>\n",
       "    </tr>\n",
       "    <tr>\n",
       "      <th>home.destNull</th>\n",
       "      <td>1.000000</td>\n",
       "    </tr>\n",
       "  </tbody>\n",
       "</table>\n",
       "</div>"
      ],
      "text/plain": [
       "               home.destNull\n",
       "pclass              0.577811\n",
       "survived           -0.198229\n",
       "age                -0.187382\n",
       "sibsp              -0.030155\n",
       "parch              -0.107256\n",
       "fare               -0.209569\n",
       "body                0.006620\n",
       "ageNull             0.345293\n",
       "cabinNull           0.332690\n",
       "boatNull            0.205630\n",
       "bodyNull            0.022021\n",
       "home.destNull       1.000000"
      ]
     },
     "execution_count": 22,
     "metadata": {},
     "output_type": "execute_result"
    }
   ],
   "source": [
    "df.corr(numeric_only=True)[['home.destNull']]"
   ]
  },
  {
   "cell_type": "markdown",
   "metadata": {
    "id": "oscbXP9j1zO1"
   },
   "source": [
    "Mam tutaj wątpliwości pomiędzy MAR a MNAR. Z jednej strony jest to dość szczegółowa informacja tak samo jak wiek, jednak brak tej informacji jest również skoreolowany z klasą biletu, brakiem wieku oraz brakiem kabiny. Finalnie powiedziałabym, że jest to ***MNAR***"
   ]
  },
  {
   "cell_type": "markdown",
   "metadata": {
    "id": "wr4uphVL6Vx6"
   },
   "source": [
    "# Zadanie 4"
   ]
  },
  {
   "cell_type": "markdown",
   "metadata": {
    "id": "dirWJbpL6cdn"
   },
   "source": [
    " Tak jak zostało wspomniane wcześniej w przypadku wartości brakujących w kolumnach ***fare*** oraz ***embarked*** usunęłabym te obserwacje."
   ]
  },
  {
   "cell_type": "code",
   "execution_count": 23,
   "metadata": {
    "colab": {
     "base_uri": "https://localhost:8080/",
     "height": 424
    },
    "id": "ayXOHfKi7BKR",
    "outputId": "5e812ba9-cd0f-497c-c824-32933d476d28"
   },
   "outputs": [
    {
     "data": {
      "text/plain": [
       "<seaborn.axisgrid.FacetGrid at 0x23af2e9e550>"
      ]
     },
     "execution_count": 23,
     "metadata": {},
     "output_type": "execute_result"
    },
    {
     "data": {
      "image/png": "[encoded data removed]",
      "text/plain": [
       "<Figure size 800x400 with 2 Axes>"
      ]
     },
     "metadata": {},
     "output_type": "display_data"
    }
   ],
   "source": [
    "g = sns.FacetGrid(df, col='survived', col_wrap=2, height=4)\n",
    "g.map(sns.histplot, 'age', color = 'skyblue')"
   ]
  },
  {
   "cell_type": "markdown",
   "metadata": {
    "id": "yTg4xKdt8LDi"
   },
   "source": [
    "Brakujące wartości dla zmiennej ***age*** uzupełniłabym medianą"
   ]
  },
  {
   "cell_type": "markdown",
   "metadata": {
    "id": "0BKAreaV8wZJ"
   },
   "source": [
    "W przypadku kolumny ***cabin*** brakuje nam informacji dla prawie 80% przypadków. Zastanowiłabym się czy nie możemy jakoś uprościć tej kolumny pozostawiając tylko na przykład pierwszą literę i poszukała wzorca według którego można by uzupełniać brakujące wartości. Może ma to jakiś związek z ceną biletu."
   ]
  },
  {
   "cell_type": "markdown",
   "metadata": {
    "id": "EncWyQI6X-Xj"
   },
   "source": [
    "Dla kolumny ***boat*** stworzyłabym dwie etykiety. Mam podejrzenie, że jeśli ktoś nie przeżył to głównie dlatego, że nie zdążył/brakło dla niego łodzi ratunkowej i wtedy - 'Not applicable', dla osób, które przeżyły - 'Unknown'"
   ]
  },
  {
   "cell_type": "markdown",
   "metadata": {
    "id": "rzXHB5BFaP1K"
   },
   "source": [
    "***body*** - osoby które nie przeżyły 'Unknown', przeżyły 'Not applicable'. Na pierwszy rzut oka wydaje się, że ta kolumna nie wnosi zbyt wiele, więc rozważyłabym jej usunięcie"
   ]
  },
  {
   "cell_type": "markdown",
   "metadata": {
    "id": "2V7Glti8apTq"
   },
   "source": [
    "***home.dest*** dodałabym wartość 'unknown' albo uzupełniła losowym miejscem z przykładowo 10 najbardziej popularanych"
   ]
  }
 ],
 "metadata": {
  "colab": {
   "provenance": []
  },
  "kernelspec": {
   "display_name": "Python py311",
   "language": "python",
   "name": "datascience"
  },
  "language_info": {
   "codemirror_mode": {
    "name": "ipython",
    "version": 3
   },
   "file_extension": ".py",
   "mimetype": "text/x-python",
   "name": "python",
   "nbconvert_exporter": "python",
   "pygments_lexer": "ipython3",
   "version": "3.11.8"
  }
 },
 "nbformat": 4,
 "nbformat_minor": 4
}
